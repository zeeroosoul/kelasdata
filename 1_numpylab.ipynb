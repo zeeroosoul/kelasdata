{
 "cells": [
  {
   "cell_type": "code",
   "execution_count": 2,
   "metadata": {},
   "outputs": [
    {
     "name": "stdout",
     "output_type": "stream",
     "text": [
      "2.2.1\n"
     ]
    }
   ],
   "source": [
    "# import pustaka\n",
    "import numpy as np\n",
    "\n",
    "# cek versi pustaka\n",
    "print(np.__version__)"
   ]
  },
  {
   "cell_type": "code",
   "execution_count": 13,
   "metadata": {},
   "outputs": [
    {
     "name": "stdout",
     "output_type": "stream",
     "text": [
      "sudut:  [0 1 2]\n",
      "nilai sin:  [0.         0.84147098 0.90929743]\n",
      "sin 0:  0.0\n",
      "sin 30:  -0.9880316240928618\n",
      "sin 0:  0.8509035245341184\n"
     ]
    }
   ],
   "source": [
    "# array sudut radian\n",
    "# ini adalah sudut antara kedua jari lingkaran \n",
    "# yang panjangnya sama dengan panjang busur lingkaran \n",
    "# antar jari dalam satu radian\n",
    "# 1 radian = 180 / phi\n",
    "# phi radian = 180\n",
    "sudut = np.array([0, 1, 2])\n",
    "print(\"sudut: \", sudut)\n",
    "\n",
    "# hitung nilai sin\n",
    "sin_sudut = np.sin(sudut)\n",
    "print(\"nilai sin: \", sin_sudut)\n",
    "\n",
    "# aturan sin cos tan pada sudut siku\n",
    "# sin = de mi\n",
    "# cos = sa mi\n",
    "# tan = de sa\n",
    "print(\"sin 0: \", np.sin(0))\n",
    "print(\"sin 30: \", np.sin(30)) # biasanya dibuku pakem tertulis sin 1/2\n",
    "print(\"sin 0: \", np.sin(45))"
   ]
  }
 ],
 "metadata": {
  "kernelspec": {
   "display_name": "Python 3 (ipykernel)",
   "language": "python",
   "name": "python3"
  },
  "language_info": {
   "codemirror_mode": {
    "name": "ipython",
    "version": 3
   },
   "file_extension": ".py",
   "mimetype": "text/x-python",
   "name": "python",
   "nbconvert_exporter": "python",
   "pygments_lexer": "ipython3",
   "version": "3.10.12"
  }
 },
 "nbformat": 4,
 "nbformat_minor": 2
}
