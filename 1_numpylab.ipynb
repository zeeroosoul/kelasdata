{
 "cells": [
  {
   "cell_type": "code",
   "execution_count": 3,
   "metadata": {},
   "outputs": [
    {
     "name": "stdout",
     "output_type": "stream",
     "text": [
      "2.2.1\n"
     ]
    }
   ],
   "source": [
    "# import pustaka\n",
    "import numpy as np\n",
    "\n",
    "# cek versi pustaka\n",
    "print(np.__version__)\n",
    "\n",
    "# biasanya numpy dipakai untuk olah data komputasi sains berbasis kode python\n",
    "# cocok untuk olah dataset besar, melakukan komputasi math dengan baik \n",
    "# dan operasi perhitungan komplex dengan kode yang simpel"
   ]
  },
  {
   "cell_type": "code",
   "execution_count": 4,
   "metadata": {},
   "outputs": [
    {
     "name": "stdout",
     "output_type": "stream",
     "text": [
      "sudut:  [0 1 2]\n",
      "nilai sin:  [0.         0.84147098 0.90929743]\n",
      "sin 0:  0.0\n",
      "sin 30:  -0.9880316240928618\n",
      "sin 0:  0.8509035245341184\n",
      "cos 0:  1.0\n",
      "cos 30:  0.15425144988758405\n",
      "cos 90:  -0.4480736161291701\n"
     ]
    }
   ],
   "source": [
    "# array sudut radian\n",
    "# ini adalah sudut antara kedua jari lingkaran \n",
    "# yang panjangnya sama dengan panjang busur lingkaran \n",
    "# antar jari dalam satu radian\n",
    "# 1 radian = 180 / phi\n",
    "# phi radian = 180\n",
    "sudut = np.array([0, 1, 2])\n",
    "print(\"sudut: \", sudut)\n",
    "\n",
    "# hitung nilai sin\n",
    "sin_sudut = np.sin(sudut)\n",
    "print(\"nilai sin: \", sin_sudut)\n",
    "\n",
    "# aturan sin cos tan pada sudut siku\n",
    "# sin = de mi\n",
    "# cos = sa mi\n",
    "# tan = de sa\n",
    "print(\"sin 0: \", np.sin(0))\n",
    "print(\"sin 30: \", np.sin(30)) # biasanya dibuku pakem tertulis sin 1/2\n",
    "print(\"sin 0: \", np.sin(45))\n",
    "\n",
    "print(\"cos 0: \", np.cos(0))\n",
    "print(\"cos 30: \", np.cos(30)) # biasanya dibuku pakem tertulis 1/2 akar 3\n",
    "print(\"cos 90: \", np.cos(90)) # biasanya dibuku pakem tertulis 0 mutlak\n",
    "\n",
    "# referensi lebih lanjut fungsi-fungsi pada numpy\n",
    "# https://www.programiz.com/python-programming/numpy/"
   ]
  },
  {
   "cell_type": "code",
   "execution_count": 6,
   "metadata": {},
   "outputs": [
    {
     "name": "stdout",
     "output_type": "stream",
     "text": [
      "rata:  74.83333333333333\n",
      "sort:  [50 66 70 85 88 90]\n",
      "med:  77.5\n",
      "min:  50\n"
     ]
    }
   ],
   "source": [
    "# nilai max nilai min pada array\n",
    "nilai_ulangan = np.array([70, 88, 90, 50, 66, 85])\n",
    "\n",
    "# cari nilai rata2\n",
    "print(\"rata: \", np.mean(nilai_ulangan))\n",
    "\n",
    "# cari nilai media / tengah\n",
    "print(\"sort: \",np.sort(nilai_ulangan))\n",
    "print(\"med: \", np.median(nilai_ulangan)) # nilai harus diurutkan terlebih dulu\n",
    "\n",
    "print(\"min: \", np.min(nilai_ulangan))"
   ]
  },
  {
   "cell_type": "code",
   "execution_count": 22,
   "metadata": {},
   "outputs": [
    {
     "name": "stdout",
     "output_type": "stream",
     "text": [
      "sort:  [38 47 49 58 60 65 70 79 80 92]\n",
      "size:  10\n",
      "persentil:  72.7\n",
      "persentil rumus dasar:  60.0\n"
     ]
    }
   ],
   "source": [
    "# hitung persentil pada kumpulan array\n",
    "# persentil x = jumlah nilai kurang dari x / jumlah data * 100\n",
    "nilai_siswa = [38, 47, 49, 58, 60, 65, 70, 79, 80, 92]\n",
    "print(\"sort: \", np.sort(nilai_siswa))\n",
    "print(\"size: \", np.size(nilai_siswa))\n",
    "np.set_printoptions(precision=20)\n",
    "print(\"persentil: \", np.percentile(nilai_siswa, 70, axis=0)) # 6/10*100 = 60% bisa jadi rumus komputasi numpy berbeda\n",
    "print(\"persentil rumus dasar: \", (6/10)*100)"
   ]
  }
 ],
 "metadata": {
  "kernelspec": {
   "display_name": "Python 3 (ipykernel)",
   "language": "python",
   "name": "python3"
  },
  "language_info": {
   "codemirror_mode": {
    "name": "ipython",
    "version": 3
   },
   "file_extension": ".py",
   "mimetype": "text/x-python",
   "name": "python",
   "nbconvert_exporter": "python",
   "pygments_lexer": "ipython3",
   "version": "3.10.6"
  }
 },
 "nbformat": 4,
 "nbformat_minor": 2
}
